{
  "metadata": {
    "kernelspec": {
      "name": "python",
      "display_name": "Python (Pyodide)",
      "language": "python"
    },
    "language_info": {
      "codemirror_mode": {
        "name": "python",
        "version": 3
      },
      "file_extension": ".py",
      "mimetype": "text/x-python",
      "name": "python",
      "nbconvert_exporter": "python",
      "pygments_lexer": "ipython3",
      "version": "3.8"
    }
  },
  "nbformat_minor": 4,
  "nbformat": 4,
  "cells": [
    {
      "cell_type": "markdown",
      "source": "# The Sparks Foundation - TASK 4 - EDA on Global Terrorism",
      "metadata": {}
    },
    {
      "cell_type": "code",
      "source": "#Importing the necessary libraries\n\nimport pandas as pd\nimport numpy as np \nimport seaborn as sns\nimport matplotlib.pyplot as plt\nimport plotly.express as px\n%matplotlib inline",
      "metadata": {
        "trusted": true
      },
      "execution_count": null,
      "outputs": []
    },
    {
      "cell_type": "code",
      "source": "# Loading the data into the dataframe\ndf = pd.read_csv('https://bit.ly/2TK5Xn5')",
      "metadata": {
        "trusted": true
      },
      "execution_count": null,
      "outputs": []
    },
    {
      "cell_type": "code",
      "source": "#Viewing the first five rows of the dataframe\ndf.head()",
      "metadata": {
        "trusted": true
      },
      "execution_count": null,
      "outputs": []
    },
    {
      "cell_type": "code",
      "source": "# Viewing the last five rows of the dataset\ndf.tail()",
      "metadata": {
        "trusted": true
      },
      "execution_count": null,
      "outputs": []
    },
    {
      "cell_type": "code",
      "source": "# Total number of rows and columns in the dataset\ndf.shape",
      "metadata": {
        "trusted": true
      },
      "execution_count": null,
      "outputs": []
    },
    {
      "cell_type": "code",
      "source": "# Viewing the column names in a list \nlist = df.columns.tolist()\nprint(list,sep =', ')",
      "metadata": {
        "trusted": true
      },
      "execution_count": null,
      "outputs": []
    },
    {
      "cell_type": "code",
      "source": "# Acquiring columns that are necessary for our analysis\ndf = df[['eventid','iyear','imonth','iday','country_txt','region_txt','provstate','city','latitude','longitude','success','suicide'\n        ,'attacktype1_txt','targtype1_txt','target1','gname','motive','weaptype1_txt','nkill','nwound','propvalue']]",
      "metadata": {
        "trusted": true
      },
      "execution_count": null,
      "outputs": []
    },
    {
      "cell_type": "code",
      "source": "df.head()",
      "metadata": {
        "trusted": true
      },
      "execution_count": null,
      "outputs": []
    },
    {
      "cell_type": "code",
      "source": "# Checking for null values\ndf.isnull().sum()",
      "metadata": {
        "trusted": true
      },
      "execution_count": null,
      "outputs": []
    },
    {
      "cell_type": "code",
      "source": "# Filling null values in killed and wound columns and added to get new column - Casualties\ndf['nkill'] = df['nkill'].fillna(0)\ndf['nwound'] = df['nwound'].fillna(0)\ndf['Casualties'] = df['nkill'] + df['nwound']",
      "metadata": {
        "trusted": true
      },
      "execution_count": null,
      "outputs": []
    },
    {
      "cell_type": "code",
      "source": "# Renaming the columns for ease of access\ndf.rename(columns={'eventid':'Eventid','iyear':'Year','imonth':'Month','iday':'Day','country_txt':'Country','region_txt':'Region',\n                  'provstate':'State','city':'City','latitude':'Latitude','longitude':'Longitude','success':'Success','suicide':\n                  'Suicide','attacktype1_txt':'Attacktype','targtype1_txt':'Targtype','target1':'Target','gname':'Group','motive':\n                  'Motive','weaptype1_txt':'Weapontype','nkill':'killed','nwound':'Wounded','propvalue':'Propvalue'},inplace = True)\ndf.head()",
      "metadata": {
        "trusted": true
      },
      "execution_count": null,
      "outputs": []
    },
    {
      "cell_type": "code",
      "source": "# Running EDD \ndf.describe()",
      "metadata": {
        "trusted": true
      },
      "execution_count": null,
      "outputs": []
    },
    {
      "cell_type": "code",
      "source": "print(\"Total number of casualities: \",int(sum(df['Casualties'].dropna())))",
      "metadata": {
        "trusted": true
      },
      "execution_count": null,
      "outputs": []
    },
    {
      "cell_type": "code",
      "source": "print(\"Total number of killed: \",int(sum(df['killed'].dropna())))",
      "metadata": {
        "trusted": true
      },
      "execution_count": null,
      "outputs": []
    },
    {
      "cell_type": "code",
      "source": "print(\"Total number of wounded: \",int(sum(df['Wounded'].dropna())))",
      "metadata": {
        "trusted": true
      },
      "execution_count": null,
      "outputs": []
    },
    {
      "cell_type": "markdown",
      "source": "# Total number of Terrorist Activities per year",
      "metadata": {}
    },
    {
      "cell_type": "code",
      "source": "plt.subplots(figsize=(15, 6))\nax = sns.countplot(x=\"Year\", data=df, palette=\"magma\", edgecolor=sns.color_palette(\"dark\", 10))\nplt.xticks(rotation=90)\n\n# Adding annotations to the chart\nfor p in ax.patches:\n    ax.annotate(f'{p.get_height()}', (p.get_x() + p.get_width() / 2., p.get_height()),\n                ha='center', va='baseline', fontsize=12, color='black', xytext=(0, 5),\n                textcoords='offset points',rotation = 90)\n\nplt.show()",
      "metadata": {
        "trusted": true
      },
      "execution_count": null,
      "outputs": []
    },
    {
      "cell_type": "markdown",
      "source": "#### Inference\n\n* Year with lowest Terrorist Activities : 1971.\n* Year with highest Terrorist Activities : 2014.",
      "metadata": {}
    },
    {
      "cell_type": "markdown",
      "source": "# Total number of Casualties by year",
      "metadata": {}
    },
    {
      "cell_type": "code",
      "source": "plt.subplots(figsize=(18,6))\ncas_by_year = df.groupby('Year').Casualties.sum().to_frame().reset_index()\ncas_by_year.columns = ['Year','Casualties']\nax = sns.barplot(x = cas_by_year['Year'], y =cas_by_year['Casualties'],palette = \"flare\",edgecolor = sns.color_palette('dark',10))\nplt.xticks(rotation = 90)\n\nfor p in ax.patches:\n    ax.annotate(f'{p.get_height()}', (p.get_x() + p.get_width() / 2., p.get_height()),\n                ha='center', va='baseline', fontsize=12, color='black', xytext=(0, 5),\n                textcoords='offset points',rotation = 90)\nplt.show()",
      "metadata": {
        "trusted": true
      },
      "execution_count": null,
      "outputs": []
    },
    {
      "cell_type": "markdown",
      "source": "#### Inference\n\n* Year 1971 has the lowest number of casualties : 255.\n* Year 2014 has the highest number of casualties : 85618.",
      "metadata": {}
    },
    {
      "cell_type": "markdown",
      "source": "# Total Number of people killed region-wise",
      "metadata": {}
    },
    {
      "cell_type": "code",
      "source": "plt.subplots(figsize = (18,6))\nregion_killed = df.groupby('Region').killed.sum().to_frame().reset_index()\nregion_killed.columns =['Region','Total Killed']\nregion_killed = region_killed.sort_values('Total Killed', ascending=False)\nax = sns.barplot(x=region_killed['Region'],y=region_killed['Total Killed'],palette =\"mako\")\nplt.xticks(rotation = 90)\nfor p in ax.patches:\n    ax.annotate(f'{p.get_height()}', (p.get_x() + p.get_width() / 2., p.get_height()),\n                ha='center', va='baseline', fontsize=12, color='black', xytext=(0, 5),\n                textcoords='offset points',rotation = 45)\n\nplt.show()",
      "metadata": {
        "trusted": true
      },
      "execution_count": null,
      "outputs": []
    },
    {
      "cell_type": "markdown",
      "source": "#### Inference\n\n* Over 1 lakh people were killed in Middle East and North Africa region.\n* Over 100 hundred people were killed in Australasia and Oceania region.",
      "metadata": {}
    },
    {
      "cell_type": "markdown",
      "source": "# Top 15 nations in the world for the amount of fatalities",
      "metadata": {}
    },
    {
      "cell_type": "code",
      "source": "plt.subplots(figsize = (15,8))\ncountry_killed = df.groupby('Country').killed.sum().to_frame().reset_index().sort_values('killed',ascending = False)[:15]\nax = sns.barplot(x = country_killed.Country, y= country_killed.killed, palette = \"GnBu_r\",edgecolor = sns.color_palette('dark',10))\nfor p in ax.patches:\n    ax.annotate(f'{p.get_height()}', (p.get_x() + p.get_width() / 2., p.get_height()),\n                ha='center', va='baseline', fontsize=12, color='black', xytext=(0, 5),\n                textcoords='offset points',rotation = 45)\n\nplt.show()",
      "metadata": {
        "trusted": true
      },
      "execution_count": null,
      "outputs": []
    },
    {
      "cell_type": "markdown",
      "source": "#### Inference\n\n* Iraq stands out with the highest number of fatalities at 78,589, while Yemen records the lowest among these 15 nations, with 8,776.",
      "metadata": {}
    },
    {
      "cell_type": "markdown",
      "source": "# Total Attacks vs Casualties by Country",
      "metadata": {}
    },
    {
      "cell_type": "code",
      "source": "country_att = df.Country.value_counts()[:15].to_frame().reset_index()\ncountry_att.columns = ['Country','Total Attacks']\ncountry_cas = df.groupby('Country').Casualties.sum().to_frame().reset_index()\ncountry_cas.columns = ['Country','Casualties']\ncountry_total = pd.merge(country_att,country_cas,how='left',on = 'Country').sort_values('Total Attacks',ascending = False)\nsns.set_palette('Set2')\ncountry_total.plot.bar(x=\"Country\",width=0.8)\nplt.xticks(rotation = 90)\nfig = plt.gcf()\nfig.set_size_inches(16,9)\nplt.show",
      "metadata": {
        "trusted": true
      },
      "execution_count": null,
      "outputs": []
    },
    {
      "cell_type": "markdown",
      "source": "#### Inference\n\n* Iraq takes the lead with the highest number of both attacks and casualties.\n\n* Interestingly, Afghanistan, while having fewer attacks than Iraq, reports a higher number of casualties.\n\n* Conversely, Spain, among these 15 nations, records the lowest figures for both attacks and casualties, painting a contrasting picture in the dataset.",
      "metadata": {}
    },
    {
      "cell_type": "markdown",
      "source": "# Total Attacks vs Casualties by Regions",
      "metadata": {}
    },
    {
      "cell_type": "code",
      "source": "region_att = df.Region.value_counts()[:15].to_frame().reset_index()\nregion_att.columns = ['Region','Total Attacks']\nregion_cas = df.groupby('Region').Casualties.sum().to_frame().reset_index()\nregion_cas.columns = ['Region','Casualties']\nregion_total = pd.merge(region_att,region_cas,how='left',on = 'Region').sort_values('Total Attacks',ascending = False)\nsns.set_palette('Paired')\nregion_total.plot.bar(x=\"Region\",width=0.8)\nplt.xticks(rotation = 90)\nplt.title = (\"Total Attacks vs Casualties by Region\")\nfig = plt.gcf()\nfig.set_size_inches(16,9)\nplt.show",
      "metadata": {
        "trusted": true
      },
      "execution_count": null,
      "outputs": []
    },
    {
      "cell_type": "markdown",
      "source": "#### Inference\n\n* Middle East and North Africa have faced about 50000 attacks and over 30 lakh casualties.\n* Compared to other regions, Australasia and Oceania have experienced fewer attacks and casualties.",
      "metadata": {}
    },
    {
      "cell_type": "markdown",
      "source": "# The top 20 Infamous Groups",
      "metadata": {}
    },
    {
      "cell_type": "code",
      "source": "group_attacks = df.Group.value_counts().to_frame().drop('Unknown').reset_index()[:20]\ngroup_attacks.columns = ['Terrorist Group','Total Attacks']\nplt.subplots(figsize=(10,8))\nsns.barplot(y = group_attacks['Terrorist Group'],x = group_attacks['Total Attacks'],palette = \"mako\",edgecolor = sns.color_palette('dark',10))\nplt.xticks(rotation = 90)\n\nplt.show()",
      "metadata": {
        "trusted": true
      },
      "execution_count": null,
      "outputs": []
    },
    {
      "cell_type": "markdown",
      "source": "#### Inference\n\n* Taliban has over 6500 attacks followed by ISIL (Islamic State of Iraq and the Levant) with over 5000 attacks.",
      "metadata": {}
    },
    {
      "cell_type": "markdown",
      "source": "# Top 10 Notorious Groups and the most lethal weapons they use",
      "metadata": {}
    },
    {
      "cell_type": "code",
      "source": "df = df[df['Group'] != 'Unknown']\ngrouped_df = df.groupby(['Group', 'Weapontype'])['killed'].sum().reset_index()\ntop_10_groups = grouped_df.groupby('Group')['killed'].sum().nlargest(10).index\nfiltered_df = grouped_df[grouped_df['Group'].isin(top_10_groups)]\nfig = px.sunburst(filtered_df, path=['Group', 'Weapontype'], values='killed', title='Top 10 Groups and Their Weapon Types with Total Kills')\nfig.update_traces(textinfo='label+percent parent')\nfig.update_layout(width=1000, height=900)\nfig.show()",
      "metadata": {
        "trusted": true
      },
      "execution_count": null,
      "outputs": []
    }
  ]
}